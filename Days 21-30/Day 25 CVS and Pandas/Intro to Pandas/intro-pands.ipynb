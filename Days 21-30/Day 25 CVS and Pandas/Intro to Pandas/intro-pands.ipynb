{
 "cells": [
  {
   "cell_type": "code",
   "execution_count": 1,
   "id": "7259b7e3",
   "metadata": {},
   "outputs": [
    {
     "name": "stdout",
     "output_type": "stream",
     "text": [
      "         day  temp condition\n",
      "0     Monday    12     Sunny\n",
      "1    Tuesday    14      Rain\n",
      "2  Wednesday    15      Rain\n",
      "3   Thursday    14    Cloudy\n",
      "4     Friday    21     Sunny\n",
      "5   Saturday    22     Sunny\n",
      "6     Sunday    24     Sunny\n"
     ]
    }
   ],
   "source": [
    "import pandas as pd\n",
    "\n",
    "data = pd.read_csv(\"weather_data.csv\")\n",
    "print(data)"
   ]
  },
  {
   "cell_type": "code",
   "execution_count": 2,
   "id": "907502ad",
   "metadata": {},
   "outputs": [
    {
     "name": "stdout",
     "output_type": "stream",
     "text": [
      "{'day': {0: 'Monday', 1: 'Tuesday', 2: 'Wednesday', 3: 'Thursday', 4: 'Friday', 5: 'Saturday', 6: 'Sunday'}, 'temp': {0: 12, 1: 14, 2: 15, 3: 14, 4: 21, 5: 22, 6: 24}, 'condition': {0: 'Sunny', 1: 'Rain', 2: 'Rain', 3: 'Cloudy', 4: 'Sunny', 5: 'Sunny', 6: 'Sunny'}}\n"
     ]
    }
   ],
   "source": [
    "# Convert the DataFrame to a dictionary\n",
    "data_dict = data.to_dict()\n",
    "print(data_dict)"
   ]
  },
  {
   "cell_type": "code",
   "execution_count": 3,
   "id": "ffd93cd5",
   "metadata": {},
   "outputs": [
    {
     "name": "stdout",
     "output_type": "stream",
     "text": [
      "7\n",
      "17.428571428571427\n"
     ]
    }
   ],
   "source": [
    "# Get the average temperature\n",
    "temp_list = data[\"temp\"].to_list()\n",
    "print(len(temp_list))\n",
    "\n",
    "print(data[\"temp\"].mean())"
   ]
  },
  {
   "cell_type": "code",
   "execution_count": 8,
   "id": "f3f2884d",
   "metadata": {},
   "outputs": [
    {
     "name": "stdout",
     "output_type": "stream",
     "text": [
      "{'Alabama': {'x': 139, 'y': -77}, 'Alaska': {'x': -204, 'y': -170}, 'Arizona': {'x': -203, 'y': -40}, 'Arkansas': {'x': 57, 'y': -53}, 'California': {'x': -297, 'y': 13}, 'Colorado': {'x': -112, 'y': 20}, 'Connecticut': {'x': 297, 'y': 96}, 'Delaware': {'x': 275, 'y': 42}, 'Florida': {'x': 220, 'y': -145}, 'Georgia': {'x': 182, 'y': -75}, 'Hawaii': {'x': -317, 'y': -143}, 'Idaho': {'x': -216, 'y': 122}, 'Illinois': {'x': 95, 'y': 37}, 'Indiana': {'x': 133, 'y': 39}, 'Iowa': {'x': 38, 'y': 65}, 'Kansas': {'x': -17, 'y': 5}, 'Kentucky': {'x': 149, 'y': 1}, 'Louisiana': {'x': 59, 'y': -114}, 'Maine': {'x': 319, 'y': 164}, 'Maryland': {'x': 288, 'y': 27}, 'Massachusetts': {'x': 312, 'y': 112}, 'Michigan': {'x': 148, 'y': 101}, 'Minnesota': {'x': 23, 'y': 135}, 'Mississippi': {'x': 94, 'y': -78}, 'Missouri': {'x': 49, 'y': 6}, 'Montana': {'x': -141, 'y': 150}, 'Nebraska': {'x': -61, 'y': 66}, 'Nevada': {'x': -257, 'y': 56}, 'New Hampshire': {'x': 302, 'y': 127}, 'New Jersey': {'x': 282, 'y': 65}, 'New Mexico': {'x': -128, 'y': -43}, 'New York': {'x': 236, 'y': 104}, 'North Carolina': {'x': 239, 'y': -22}, 'North Dakota': {'x': -44, 'y': 158}, 'Ohio': {'x': 176, 'y': 52}, 'Oklahoma': {'x': -8, 'y': -41}, 'Oregon': {'x': -278, 'y': 138}, 'Pennsylvania': {'x': 238, 'y': 72}, 'Rhode Island': {'x': 318, 'y': 94}, 'South Carolina': {'x': 218, 'y': -51}, 'South Dakota': {'x': -44, 'y': 109}, 'Tennessee': {'x': 131, 'y': -34}, 'Texas': {'x': -38, 'y': -106}, 'Utah': {'x': -189, 'y': 34}, 'Vermont': {'x': 282, 'y': 154}, 'Virginia': {'x': 234, 'y': 12}, 'Washington': {'x': -257, 'y': 193}, 'West Virginia': {'x': 200, 'y': 20}, 'Wisconsin': {'x': 83, 'y': 113}, 'Wyoming': {'x': -134, 'y': 90}}\n"
     ]
    }
   ],
   "source": [
    "states_data = pd.read_csv(\"C:/Users/NateG/source/repo/Udemy/100-days-of-python-challenge/Days 21-30/Day 25 CVS and Pandas/US States Game/50_states.csv\")\n",
    "# Set index to first column (state names) to make it easier to access the data\n",
    "states_data.set_index(\"state\", inplace=True)\n",
    "state_dictionary = states_data.to_dict(orient=\"index\")\n",
    "print(state_dictionary)"
   ]
  },
  {
   "cell_type": "code",
   "execution_count": null,
   "id": "cb9c77cb",
   "metadata": {},
   "outputs": [],
   "source": []
  }
 ],
 "metadata": {
  "kernelspec": {
   "display_name": "100days-venv",
   "language": "python",
   "name": "python3"
  },
  "language_info": {
   "codemirror_mode": {
    "name": "ipython",
    "version": 3
   },
   "file_extension": ".py",
   "mimetype": "text/x-python",
   "name": "python",
   "nbconvert_exporter": "python",
   "pygments_lexer": "ipython3",
   "version": "3.12.9"
  }
 },
 "nbformat": 4,
 "nbformat_minor": 5
}
